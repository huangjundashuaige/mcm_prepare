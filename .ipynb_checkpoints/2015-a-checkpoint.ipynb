{
 "cells": [
  {
   "cell_type": "code",
   "execution_count": 1,
   "metadata": {},
   "outputs": [],
   "source": [
    "import random\n",
    "import time\n",
    "random.seed(time.time())\n",
    "\n",
    "class Group(object):##the class of a group which could be a country or state\n",
    "    infect_rate=0\n",
    "    death_num=0\n",
    "    cure_num=0\n",
    "    tmp=0\n",
    "    def __init__(self,population,gdp,cal_out=None,iteration_function=None):\n",
    "        self.population=population\n",
    "        self.gdp=gdp\n",
    "        self.cal_out=cal_out\n",
    "        self.iteration_function=iteration_function\n",
    "    def get_out(self):##can cal the per time out population which will be (population,infect_num)\n",
    "        tmp_total_num=self.cal_out(self.population,self.gdp)\n",
    "        self.population-=tmp_total_num\n",
    "        infect_num=0\n",
    "        for x in range(tmp_total_num):\n",
    "            if random.random() < self.infect_rate:\n",
    "                infect_num+=1\n",
    "        return tmp_total_num,infect_num\n",
    "    def get_in(self,args):##by get in the data of (population,infect_num) can change the state\n",
    "        infect_population=self.population*self.infect_rate\n",
    "        infect_population+=args[1]\n",
    "        self.population+=args[0]\n",
    "        self.infect_rate=infect_population/self.population\n",
    "        return self.infect_rate\n",
    "    def next_day(self):##call this function you can get the next day state of the instance\n",
    "        \n",
    "        l=self.iteration_function((self.population*self.infect_rate)\n",
    "        infect_num=l[0]\n",
    "        self.population-=(l[3]-self.cure_num)\n",
    "        self.cure_num=l[3]\n",
    "        self.infect_rate=infect_num/self.population\n",
    "        return self.infect_rate"
   ]
  },
  {
   "cell_type": "code",
   "execution_count": 2,
   "metadata": {},
   "outputs": [],
   "source": [
    "class Node(object):##similar to link list\n",
    "    def __init__(self,group,next_group=None):\n",
    "        self.group=group\n",
    "        self.next_group=next_group\n",
    "    def next_group(self):\n",
    "        return next_group"
   ]
  },
  {
   "cell_type": "code",
   "execution_count": 3,
   "metadata": {},
   "outputs": [
    {
     "name": "stdout",
     "output_type": "stream",
     "text": [
      "[[1.00000000e+01 1.00000000e+07 0.00000000e+00 0.00000000e+00]\n",
      " [9.97406947e+01 9.99988295e+06 1.36562969e+01 1.36562969e+01]\n",
      " [9.94684341e+02 9.99871560e+06 1.49855822e+02 1.49855822e+02]\n",
      " [9.90615629e+03 9.98708943e+06 1.50720616e+03 1.50720616e+03]\n",
      " [9.73324817e+04 9.87280935e+06 1.49340861e+04 1.49340861e+04]\n",
      " [8.44066147e+05 8.87834820e+06 1.38797828e+05 1.38797828e+05]\n",
      " [3.50701297e+06 4.76171875e+06 8.65639135e+05 8.65639135e+05]\n",
      " [4.01125636e+06 1.39826715e+06 2.29524325e+06 2.29524325e+06]\n",
      " [2.57448349e+06 5.17997738e+05 3.45376439e+06 3.45376439e+06]\n",
      " [1.43312481e+06 2.87765595e+05 4.13955980e+06 4.13955980e+06]\n",
      " [7.65305908e+05 2.08964926e+05 4.51286958e+06 4.51286958e+06]\n",
      " [4.02390205e+05 1.76384843e+05 4.71061748e+06 4.71061748e+06]\n",
      " [2.10148567e+05 1.61394991e+05 4.81423322e+06 4.81423322e+06]\n",
      " [1.09400017e+05 1.54091519e+05 4.86825923e+06 4.86825923e+06]\n",
      " [5.68619634e+04 1.50424101e+05 4.89636197e+06 4.89636197e+06]\n",
      " [2.95310499e+04 1.48553269e+05 4.91096284e+06 4.91096284e+06]\n",
      " [1.53305582e+04 1.47591055e+05 4.91854419e+06 4.91854419e+06]\n",
      " [7.95692610e+03 1.47094050e+05 4.92247951e+06 4.92247951e+06]\n",
      " [4.12938383e+03 1.46836766e+05 4.92452192e+06 4.92452192e+06]\n",
      " [2.14289363e+03 1.46703426e+05 4.92558184e+06 4.92558184e+06]]\n"
     ]
    }
   ],
   "source": [
    "from scipy.integrate import odeint   \n",
    "import numpy as np \n",
    "t = np.arange(0,20,1)  \n",
    "def lorenz(w, t, a, b, c,d):\n",
    "    x,y,z,k=w\n",
    "    return np.array([a*x*y/d-b*x-c*x,-a*x*y/d,b*x,c*x])\n",
    "track1 = odeint(lorenz, (10,10000000 , 0.0,0.0), t, args=(3*10**(-7),0.35,0.35,1))#(a,p,y,s)\n",
    "print(track1)\n"
   ]
  },
  {
   "cell_type": "code",
   "execution_count": 4,
   "metadata": {},
   "outputs": [],
   "source": [
    "def population_infect_health_death_cure(init,**kw):\n",
    "    t = np.arange(0,1,1/7)  \n",
    "    def lorenz(w, t, a, b, c,d):\n",
    "        x,y,z,k=w\n",
    "        return np.array([a*x*y/d-b*x-c*x,-a*x*y/d,b*x,c*x])\n",
    "    track1 = odeint(lorenz, init,t, args=kw['args'])#(a,p,y,s)\n",
    "    return track1[1,:]"
   ]
  },
  {
   "cell_type": "code",
   "execution_count": 5,
   "metadata": {},
   "outputs": [
    {
     "ename": "NameError",
     "evalue": "name 'f' is not defined",
     "output_type": "error",
     "traceback": [
      "\u001b[0;31m---------------------------------------------------------------------------\u001b[0m",
      "\u001b[0;31mNameError\u001b[0m                                 Traceback (most recent call last)",
      "\u001b[0;32m<ipython-input-5-1eb1c6dd8ca3>\u001b[0m in \u001b[0;36m<module>\u001b[0;34m()\u001b[0m\n\u001b[0;32m----> 1\u001b[0;31m \u001b[0mnew_group\u001b[0m\u001b[0;34m=\u001b[0m\u001b[0mGroup\u001b[0m\u001b[0;34m(\u001b[0m\u001b[0;36m100\u001b[0m\u001b[0;34m,\u001b[0m\u001b[0;36m100\u001b[0m\u001b[0;34m,\u001b[0m\u001b[0mf\u001b[0m\u001b[0;34m,\u001b[0m \u001b[0mf\u001b[0m\u001b[0;34m)\u001b[0m\u001b[0;34m\u001b[0m\u001b[0m\n\u001b[0m\u001b[1;32m      2\u001b[0m \u001b[0mlist_coeffience\u001b[0m\u001b[0;34m=\u001b[0m\u001b[0;34m(\u001b[0m\u001b[0;36m3\u001b[0m\u001b[0;34m*\u001b[0m\u001b[0;36m10\u001b[0m\u001b[0;34m**\u001b[0m\u001b[0;34m(\u001b[0m\u001b[0;34m-\u001b[0m\u001b[0;36m7\u001b[0m\u001b[0;34m)\u001b[0m\u001b[0;34m,\u001b[0m\u001b[0;36m0.05\u001b[0m\u001b[0;34m,\u001b[0m\u001b[0;36m0.05\u001b[0m\u001b[0;34m,\u001b[0m\u001b[0;36m1\u001b[0m\u001b[0;34m)\u001b[0m\u001b[0;34m\u001b[0m\u001b[0m\n\u001b[1;32m      3\u001b[0m \u001b[0mpopulation_infect_health_death_cure\u001b[0m\u001b[0;34m(\u001b[0m\u001b[0;34m(\u001b[0m\u001b[0;36m1.0\u001b[0m\u001b[0;34m,\u001b[0m \u001b[0;36m1.00\u001b[0m\u001b[0;34m,\u001b[0m \u001b[0;36m0.0\u001b[0m\u001b[0;34m,\u001b[0m\u001b[0;36m0.0\u001b[0m\u001b[0;34m)\u001b[0m\u001b[0;34m,\u001b[0m\u001b[0margs\u001b[0m\u001b[0;34m=\u001b[0m\u001b[0;34m(\u001b[0m\u001b[0;36m1.0\u001b[0m\u001b[0;34m,\u001b[0m \u001b[0;36m1.00\u001b[0m\u001b[0;34m,\u001b[0m \u001b[0;36m1\u001b[0m\u001b[0;34m,\u001b[0m\u001b[0;36m1\u001b[0m\u001b[0;34m)\u001b[0m\u001b[0;34m)\u001b[0m\u001b[0;34m\u001b[0m\u001b[0m\n",
      "\u001b[0;31mNameError\u001b[0m: name 'f' is not defined"
     ]
    }
   ],
   "source": [
    "new_group=Group(100,100,f, f)\n",
    "list_coeffience=(3*10**(-7),0.05,0.05,1)\n",
    "population_infect_health_death_cure((1.0, 1.00, 0.0,0.0),args=(1.0, 1.00, 1,1))"
   ]
  },
  {
   "cell_type": "code",
   "execution_count": 6,
   "metadata": {},
   "outputs": [],
   "source": [
    "import pickle\n",
    "#3*10**(-7) 0.05 0.05  1\n",
    "list_coeffience=(3*10**(-7),0.35,0.35,1)\n",
    "def cal_out(population,gdp):\n",
    "    return 100\n",
    "def iteration_function(args):\n",
    "    return population_infect_health_death_cure(args,args=list_coeffience)\n",
    "guinea=Group(12.4*10**6,2039,cal_out,iteration_function)\n",
    "node_guinea=Node(guinea)\n",
    "guinea_porpotion=245860*10**6\n",
    "liberia=Group(4503000,897,cal_out,iteration_function)\n",
    "node_liberia=Node(liberia)\n",
    "liberia_porpotion=111369*10**6\n",
    "sierra_leone=Group(7075641,1848,cal_out,iteration_function)\n",
    "node_sierra_leone=Node(sierra_leone)\n",
    "sierra_leone_porpotion=71740*10**6\n",
    "###\n",
    "\n",
    "dict_country={'guinea':node_guinea,'liberia':node_liberia,'sierra_leone':node_sierra_leone}\n",
    "dict_country['guinea'].next_group=Node(liberia,sierra_leone)\n",
    "dict_country['liberia'].next_group=Node(guinea,sierra_leone)\n",
    "dict_country['sierra_leone'].next_group=Node(guinea,liberia)\n"
   ]
  },
  {
   "cell_type": "code",
   "execution_count": 7,
   "metadata": {},
   "outputs": [],
   "source": [
    "axis_x=[]\n",
    "axis_y=[]\n",
    "dict_axis_y={}\n",
    "for country in dict_country:\n",
    "    dict_axis_y[country]=[]"
   ]
  },
  {
   "cell_type": "code",
   "execution_count": 8,
   "metadata": {},
   "outputs": [
    {
     "name": "stdout",
     "output_type": "stream",
     "text": [
      "the population of guinea : 12392474.019225;infect_rate : 0.015298\n",
      "the population of liberia : 4503099.895203;infect_rate : 0.000000\n",
      "the population of sierra_leone : 7075641.000000;infect_rate : 0.000000\n",
      "the population of guinea : 12163529.495558;infect_rate : 0.015151\n",
      "the population of liberia : 4502979.433223;infect_rate : 0.000059\n",
      "the population of sierra_leone : 7074970.242914;infect_rate : 0.000392\n",
      "the population of guinea : 11939946.004324;infect_rate : 0.015010\n",
      "the population of liberia : 4500676.203671;infect_rate : 0.001031\n",
      "the population of sierra_leone : 6813085.380532;infect_rate : 0.135863\n",
      "the population of guinea : 11721474.165120;infect_rate : 0.014878\n",
      "the population of liberia : 4460965.824724;infect_rate : 0.017413\n",
      "the population of sierra_leone : 3420895.657272;infect_rate : 0.566595\n",
      "the population of guinea : 11508019.033970;infect_rate : 0.014743\n",
      "the population of liberia : 4003450.007519;infect_rate : 0.165085\n",
      "the population of sierra_leone : 1781427.056497;infect_rate : 0.289265\n",
      "the population of guinea : 11299447.672547;infect_rate : 0.014612\n",
      "the population of liberia : 2712455.576086;infect_rate : 0.298942\n",
      "the population of sierra_leone : 1365440.150163;infect_rate : 0.092741\n",
      "the population of guinea : 11095618.707345;infect_rate : 0.014486\n",
      "the population of liberia : 1870562.364574;infect_rate : 0.180958\n",
      "the population of sierra_leone : 1263515.583415;infect_rate : 0.024561\n",
      "the population of guinea : 10896390.533027;infect_rate : 0.014362\n",
      "the population of liberia : 1560796.758931;infect_rate : 0.071811\n",
      "the population of sierra_leone : 1238450.888167;infect_rate : 0.006196\n",
      "the population of guinea : 10701608.601643;infect_rate : 0.014244\n",
      "the population of liberia : 1461093.683569;infect_rate : 0.024043\n",
      "the population of sierra_leone : 1232200.342641;infect_rate : 0.001583\n",
      "the population of guinea : 10511130.719443;infect_rate : 0.014130\n",
      "the population of liberia : 1430074.147838;infect_rate : 0.007590\n",
      "the population of sierra_leone : 1230596.286298;infect_rate : 0.000412\n",
      "the population of guinea : 10324824.079752;infect_rate : 0.014019\n",
      "the population of liberia : 1420501.623425;infect_rate : 0.002360\n",
      "the population of sierra_leone : 1230158.153332;infect_rate : 0.000122\n",
      "the population of guinea : 10142565.579305;infect_rate : 0.013911\n",
      "the population of liberia : 1417529.049558;infect_rate : 0.000740\n",
      "the population of sierra_leone : 1230018.866199;infect_rate : 0.000044\n",
      "the population of guinea : 9964237.283410;infect_rate : 0.013807\n",
      "the population of liberia : 1416583.426598;infect_rate : 0.000246\n",
      "the population of sierra_leone : 1229955.417599;infect_rate : 0.000028\n",
      "the population of guinea : 9789726.112284;infect_rate : 0.013705\n",
      "the population of liberia : 1416250.488742;infect_rate : 0.000093\n",
      "the population of sierra_leone : 1229910.724011;infect_rate : 0.000023\n",
      "the population of guinea : 9618923.355007;infect_rate : 0.013607\n",
      "the population of liberia : 1416115.231724;infect_rate : 0.000045\n",
      "the population of sierra_leone : 1229864.160010;infect_rate : 0.000023\n",
      "the population of guinea : 9451724.849550;infect_rate : 0.013511\n",
      "the population of liberia : 1416035.459142;infect_rate : 0.000031\n",
      "the population of sierra_leone : 1229820.527902;infect_rate : 0.000025\n",
      "the population of guinea : 9288030.241093;infect_rate : 0.013418\n",
      "the population of liberia : 1415971.766511;infect_rate : 0.000028\n",
      "the population of sierra_leone : 1229778.817286;infect_rate : 0.000022\n",
      "the population of guinea : 9127743.019092;infect_rate : 0.013327\n",
      "the population of liberia : 1415925.531722;infect_rate : 0.000018\n",
      "the population of sierra_leone : 1229739.883585;infect_rate : 0.000018\n",
      "the population of guinea : 8970770.271651;infect_rate : 0.013239\n",
      "the population of liberia : 1415874.908317;infect_rate : 0.000025\n",
      "the population of sierra_leone : 1229697.539521;infect_rate : 0.000024\n",
      "the population of guinea : 8817022.510477;infect_rate : 0.013153\n",
      "the population of liberia : 1415813.145161;infect_rate : 0.000030\n",
      "the population of sierra_leone : 1229655.454044;infect_rate : 0.000021\n",
      "the population of guinea : 8666413.506454;infect_rate : 0.013070\n",
      "the population of liberia : 1415757.728660;infect_rate : 0.000021\n",
      "the population of sierra_leone : 1229615.222303;infect_rate : 0.000022\n",
      "the population of guinea : 8518860.135038;infect_rate : 0.012988\n",
      "the population of liberia : 1415705.668679;infect_rate : 0.000028\n",
      "the population of sierra_leone : 1229579.155191;infect_rate : 0.000017\n",
      "the population of guinea : 8374282.230294;infect_rate : 0.012909\n",
      "the population of liberia : 1415656.113235;infect_rate : 0.000021\n",
      "the population of sierra_leone : 1229538.159826;infect_rate : 0.000025\n",
      "the population of guinea : 8232602.447652;infect_rate : 0.012832\n",
      "the population of liberia : 1415606.095067;infect_rate : 0.000026\n",
      "the population of sierra_leone : 1229499.412335;infect_rate : 0.000018\n",
      "the population of guinea : 8093746.134583;infect_rate : 0.012757\n",
      "the population of liberia : 1415549.967044;infect_rate : 0.000024\n",
      "the population of sierra_leone : 1229461.563881;infect_rate : 0.000023\n",
      "the population of guinea : 7957641.208617;infect_rate : 0.012684\n",
      "the population of liberia : 1415500.005474;infect_rate : 0.000022\n",
      "the population of sierra_leone : 1229423.992969;infect_rate : 0.000024\n",
      "the population of guinea : 7824218.042190;infect_rate : 0.012612\n",
      "the population of liberia : 1415442.959925;infect_rate : 0.000026\n",
      "the population of sierra_leone : 1229385.486498;infect_rate : 0.000020\n",
      "the population of guinea : 7693409.353877;infect_rate : 0.012543\n",
      "the population of liberia : 1415395.314227;infect_rate : 0.000019\n",
      "the population of sierra_leone : 1229343.294965;infect_rate : 0.000023\n",
      "the population of guinea : 7565150.105584;infect_rate : 0.012475\n",
      "the population of liberia : 1415342.706197;infect_rate : 0.000025\n",
      "the population of sierra_leone : 1229304.316587;infect_rate : 0.000021\n",
      "the population of guinea : 7439377.405316;infect_rate : 0.012409\n",
      "the population of liberia : 1415298.284858;infect_rate : 0.000018\n",
      "the population of sierra_leone : 1229267.069692;infect_rate : 0.000017\n",
      "the population of guinea : 7316030.415164;infect_rate : 0.012344\n",
      "the population of liberia : 1415256.708596;infect_rate : 0.000020\n",
      "the population of sierra_leone : 1229235.828425;infect_rate : 0.000021\n",
      "the population of guinea : 7195050.264167;infect_rate : 0.012281\n",
      "the population of liberia : 1415211.667654;infect_rate : 0.000021\n",
      "the population of sierra_leone : 1229191.736309;infect_rate : 0.000027\n",
      "the population of guinea : 7076379.910773;infect_rate : 0.012219\n",
      "the population of liberia : 1415169.772216;infect_rate : 0.000020\n",
      "the population of sierra_leone : 1229136.991930;infect_rate : 0.000026\n",
      "the population of guinea : 6959964.285551;infect_rate : 0.012159\n",
      "the population of liberia : 1415126.401299;infect_rate : 0.000020\n",
      "the population of sierra_leone : 1229089.297684;infect_rate : 0.000020\n",
      "the population of guinea : 6845749.884021;infect_rate : 0.012101\n",
      "the population of liberia : 1415084.482630;infect_rate : 0.000021\n",
      "the population of sierra_leone : 1229050.556806;infect_rate : 0.000019\n"
     ]
    }
   ],
   "source": [
    "for x in range(5*30*7):\n",
    "    dict_country['guinea'].group.infect_rate=0.01\n",
    "    axis_x.append(x)\n",
    "    #dict_country['liberia'].group.infect_rate=0.1\n",
    "    #dict_country['sierra_leone'].group.infect_rate=0.01\n",
    "    for country in dict_country:\n",
    "        for related_country in dict_country:\n",
    "            if country!=related_country:\n",
    "                dict_country[country].group.get_in(dict_country[related_country].group.get_out())\n",
    "        dict_country[country].group.next_day()\n",
    "        dict_axis_y[country].append(dict_country[country].group.population)\n",
    "        if(x%30==0):\n",
    "            print('the population of %s : %f;infect_rate : %f' % (country\n",
    "                                                                  ,dict_country[country].group.population\n",
    "                                                                  ,dict_country[country].group.infect_rate))\n",
    "        \n",
    "    "
   ]
  },
  {
   "cell_type": "code",
   "execution_count": 10,
   "metadata": {},
   "outputs": [
    {
     "data": {
      "image/png": "[encoded data removed]",
      "text/plain": [
       "<matplotlib.figure.Figure at 0x7f144ccff5c0>"
      ]
     },
     "metadata": {},
     "output_type": "display_data"
    }
   ],
   "source": [
    "import numpy as np  \n",
    "import matplotlib.pyplot as plt  \n",
    "# evenly sampled time at 200ms intervals   \n",
    "# red dashes, blue squares and green triangles  \n",
    "plt.plot(axis_x, dict_axis_y['guinea'], 'r--', axis_x, dict_axis_y['liberia'], 'bs', axis_x, dict_axis_y['sierra_leone'], 'g^')  \n",
    "plt.show()  "
   ]
  },
  {
   "cell_type": "code",
   "execution_count": null,
   "metadata": {},
   "outputs": [],
   "source": []
  }
 ],
 "metadata": {
  "kernelspec": {
   "display_name": "Python 3",
   "language": "python",
   "name": "python3"
  },
  "language_info": {
   "codemirror_mode": {
    "name": "ipython",
    "version": 3
   },
   "file_extension": ".py",
   "mimetype": "text/x-python",
   "name": "python",
   "nbconvert_exporter": "python",
   "pygments_lexer": "ipython3",
   "version": "3.6.3"
  }
 },
 "nbformat": 4,
 "nbformat_minor": 2
}
