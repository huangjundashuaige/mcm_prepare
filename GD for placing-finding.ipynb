{
 "cells": [
  {
   "cell_type": "code",
   "execution_count": 3,
   "metadata": {},
   "outputs": [],
   "source": [
    "import tensorflow as tf\n",
    "import numpy as np\n"
   ]
  },
  {
   "cell_type": "code",
   "execution_count": 4,
   "metadata": {},
   "outputs": [],
   "source": [
    "import pickle\n",
    "class Node(object):\n",
    "    def __init__(self,x=0,y=0):\n",
    "        self.x=x\n",
    "        self.y=y\n",
    "    def position(self):\n",
    "        return self.x,self.y\n",
    "l=[]\n",
    "for x in range(26):\n",
    "    l.append(Node())"
   ]
  },
  {
   "cell_type": "code",
   "execution_count": 5,
   "metadata": {},
   "outputs": [],
   "source": [
    "l[0].y=l[1].y=l[2].y=12.127205\n",
    "l[0].x=-13.214971\n",
    "l[1].x=-11.941414\n",
    "l[2].x= -9.825659\n"
   ]
  },
  {
   "cell_type": "code",
   "execution_count": 6,
   "metadata": {},
   "outputs": [],
   "source": [
    "dis=1"
   ]
  },
  {
   "cell_type": "code",
   "execution_count": 7,
   "metadata": {},
   "outputs": [],
   "source": [
    "m=np.arange(-14.708831+dis/2,-8.463070-dis/2,dis)\n",
    "for x in range(3,9):\n",
    "    l[x].x=m[x-3]\n",
    "    l[x].y=11.396321"
   ]
  },
  {
   "cell_type": "code",
   "execution_count": 8,
   "metadata": {},
   "outputs": [],
   "source": [
    "m2=np.arange(-14.629211+dis/2, -8.082663-dis/2,dis)\n",
    "for x in range(9,15):\n",
    "    l[x].y=10.636235\n",
    "    l[x].x=m2[x-9]"
   ]
  },
  {
   "cell_type": "code",
   "execution_count": 9,
   "metadata": {},
   "outputs": [],
   "source": [
    "l[15].y=l[16].y=l[17].y=9.974737\n",
    "l[15].x=-13.240281\n",
    "l[16].x=-9.984700\n",
    "l[17].x=-8.931945\n",
    "l[18].y=l[19].y=8.892600\n",
    "l[18].x=-9.621986\n",
    "l[19].x=-8.524997"
   ]
  },
  {
   "cell_type": "code",
   "execution_count": 10,
   "metadata": {},
   "outputs": [],
   "source": [
    "with open('./guinea_map.txt','wb') as f:\n",
    "    pickle.dump(l,f)"
   ]
  },
  {
   "cell_type": "code",
   "execution_count": 11,
   "metadata": {},
   "outputs": [],
   "source": [
    "import tensorflow as tf"
   ]
  },
  {
   "cell_type": "code",
   "execution_count": 12,
   "metadata": {},
   "outputs": [],
   "source": [
    "from sklearn import preprocessing"
   ]
  },
  {
   "cell_type": "code",
   "execution_count": 13,
   "metadata": {},
   "outputs": [],
   "source": [
    "axis_x=[]\n",
    "axis_y=[]\n",
    "for x in range(20):\n",
    "    axis_x.append(l[x].x)\n",
    "    axis_y.append(l[x].y)"
   ]
  },
  {
   "cell_type": "code",
   "execution_count": 14,
   "metadata": {},
   "outputs": [],
   "source": [
    "#l1=[[1,2,3],[-20,3,40]]\n",
    "#x = preprocessing.scale(l1,axis=1)\n",
    "#x"
   ]
  },
  {
   "cell_type": "code",
   "execution_count": 15,
   "metadata": {},
   "outputs": [],
   "source": [
    "Node_map=np.matrix([axis_x,axis_y])\n",
    "Node_map = preprocessing.scale(Node_map,axis=1)"
   ]
  },
  {
   "cell_type": "code",
   "execution_count": 16,
   "metadata": {},
   "outputs": [
    {
     "data": {
      "text/plain": [
       "'\\nfor x in range(2):\\n    for y in range(20):\\n        print(Node_map[x][y])\\n'"
      ]
     },
     "execution_count": 16,
     "metadata": {},
     "output_type": "execute_result"
    }
   ],
   "source": [
    "'''\n",
    "for x in range(2):\n",
    "    for y in range(20):\n",
    "        print(Node_map[x][y])\n",
    "'''"
   ]
  },
  {
   "cell_type": "markdown",
   "metadata": {},
   "source": [
    "---\n",
    "# construction phrase\n",
    "---"
   ]
  },
  {
   "cell_type": "code",
   "execution_count": 17,
   "metadata": {},
   "outputs": [],
   "source": [
    "n_epochs=1000\n",
    "learning_rate=0.01\n",
    "coe = tf.constant(Node_map,dtype=tf.float32,name='X')\n",
    "y = tf.Variable(tf.random_uniform([1,2],-1,1))\n",
    "\n",
    "x = tf.Variable(tf.random_uniform([1,2],-1,1))"
   ]
  },
  {
   "cell_type": "code",
   "execution_count": 20,
   "metadata": {},
   "outputs": [
    {
     "name": "stdout",
     "output_type": "stream",
     "text": [
      "hhh\n",
      "hh\n",
      "hh\n",
      "hh\n",
      "hh\n",
      "hh\n",
      "hh\n",
      "hh\n",
      "hh\n",
      "hh\n",
      "hh\n"
     ]
    },
    {
     "data": {
      "text/plain": [
       "'\\ndef return_key_1(node):\\n        return tf.reduce_sum(tf.square(node.x-tf.reduce_mean(tf.matmul(x,tf.constant([1.0,0.0],shape=[2,1]))))+\\n                         tf.square(node.y-tf.reduce_mean(tf.matmul(y,tf.constant([1.0,0.0],shape=[2,1])))))\\n\\ndef cond(*arg):\\n    if(args[0]<=args[2]):\\n        return False\\n    else:\\n        return True\\ndef loop(*arg):\\ndef cond_1(*args):\\n    \\ndef sort_static(l):\\n    x=len(l)-1\\n    tf.while_loop_(cond_1,body_1,loop_vars=[x,l])\\n        for n_y in range(len(l)):\\n            y=len(l)-n_y\\n            tf.while_loop(cond,loop,loop_vars=[y,l,x])\\n'"
      ]
     },
     "execution_count": 20,
     "metadata": {},
     "output_type": "execute_result"
    }
   ],
   "source": [
    "'''\n",
    "mat=tf.Variable(tf.random_uniform([2],-1,1))\n",
    "init_op = tf.global_variables_initializer()\n",
    "with tf.Session() as sess:\n",
    "    sess.run(init_op)\n",
    "    at=mat.eval()\n",
    "    print(at)\n",
    "'''\n",
    "node=Node(1,2)\n",
    "tx=tf.reduce_mean(tf.square(node.x-tf.reduce_mean(tf.matmul(x,tf.constant([1.0,0.0],shape=[2,1]))))+\n",
    "                         tf.square(node.y-tf.reduce_mean(tf.matmul(y,tf.constant([1.0,0.0],shape=[2,1])))))\n",
    "node=Node(2,2)\n",
    "tx2=tf.reduce_mean(tf.square(node.x-tf.reduce_mean(tf.matmul(x,tf.constant([1.0,0.0],shape=[2,1]))))+\n",
    "                         tf.square(node.y-tf.reduce_mean(tf.matmul(y,tf.constant([1.0,0.0],shape=[2,1])))))\n",
    "def f():\n",
    "    print('hhh')\n",
    "    return 1.0\n",
    "tf.cond(tx>tx2,f,lambda:2.0)\n",
    "init=tf.global_variables_initializer()\n",
    "        #return math.sqrt((node.x-x[0])**2+(node.y-y[0])**2)\n",
    "#if isinstance(a,int):\n",
    "#   print('yes')\n",
    "with tf.Session() as sess:\n",
    "    sess.run(init)\n",
    "    #print(a.eval())\n",
    "\n",
    "def return_key_1(node):\n",
    "        return tf.reduce_sum(tf.square(node.x-tf.reduce_mean(tf.matmul(x,tf.constant([1.0,0.0],shape=[2,1]))))+\n",
    "                         tf.square(node.y-tf.reduce_mean(tf.matmul(y,tf.constant([1.0,0.0],shape=[2,1])))))\n",
    "\n",
    "def cond(*arg):\n",
    "    if(args[0]<=args[2]):\n",
    "        return False\n",
    "    else:\n",
    "        return True\n",
    "def loop(*arg):\n",
    "def cond_1(*args):\n",
    "    \n",
    "def sort_static(l):\n",
    "    for x in range(len(l))\n",
    "        for n_y in range(len(l)):\n",
    "            y=len(l)-n_y\n",
    "            tf.while_loop(cond,loop,loop_vars=[y,l,x])\n",
    "'''"
   ]
  },
  {
   "cell_type": "code",
   "execution_count": 1,
   "metadata": {},
   "outputs": [
    {
     "ename": "NameError",
     "evalue": "name 'x' is not defined",
     "output_type": "error",
     "traceback": [
      "\u001b[0;31m---------------------------------------------------------------------------\u001b[0m",
      "\u001b[0;31mNameError\u001b[0m                                 Traceback (most recent call last)",
      "\u001b[0;32m<ipython-input-1-8179655064f0>\u001b[0m in \u001b[0;36m<module>\u001b[0;34m()\u001b[0m\n\u001b[1;32m     42\u001b[0m         \u001b[0mresult\u001b[0m\u001b[0;34m+=\u001b[0m\u001b[0mreturn_key_2\u001b[0m\u001b[0;34m(\u001b[0m\u001b[0mnode\u001b[0m\u001b[0;34m)\u001b[0m\u001b[0;34m\u001b[0m\u001b[0m\n\u001b[1;32m     43\u001b[0m     \u001b[0;32mreturn\u001b[0m \u001b[0mresult\u001b[0m\u001b[0;34m\u001b[0m\u001b[0m\n\u001b[0;32m---> 44\u001b[0;31m \u001b[0mloss\u001b[0m\u001b[0;34m=\u001b[0m\u001b[0mloss\u001b[0m\u001b[0;34m(\u001b[0m\u001b[0mx\u001b[0m\u001b[0;34m,\u001b[0m\u001b[0my\u001b[0m\u001b[0;34m,\u001b[0m\u001b[0mcoe\u001b[0m\u001b[0;34m)\u001b[0m\u001b[0;34m\u001b[0m\u001b[0m\n\u001b[0m",
      "\u001b[0;31mNameError\u001b[0m: name 'x' is not defined"
     ]
    }
   ],
   "source": [
    "import numpy as np\n",
    "import math\n",
    "def loss(x,y,coe):\n",
    "    def return_key_1(node):\n",
    "        return tf.reduce_sum(tf.square(node.x-tf.reduce_mean(tf.matmul(x,tf.constant([1.0,0.0],shape=[2,1]))))+\n",
    "                         tf.square(node.y-tf.reduce_mean(tf.matmul(y,tf.constant([1.0,0.0],shape=[2,1])))))\n",
    "        #return math.sqrt((node.x-x[0])**2+(node.y-y[0])**2)\n",
    "    inp = tf.placeholder(tf.float32)\n",
    "    #return_key_3=tf.py_func(return_key_1,[inp],tf.float32)\n",
    "    node_list_1=sorted(l,key=return_key_1)\n",
    "    def return_key_2(node):\n",
    "        return tf.reduce_mean(tf.square(node.x-tf.reduce_mean(tf.matmul(x,tf.constant([0.0,1.0],shape=[2,1]))))**2+\n",
    "                         tf.square(node.y-tf.reduce_mean(tf.matmul(y,tf.constant([0.0,1.0],shape=[2,1])))**2))\n",
    "    node_list_2=sorted(l,key=return_key_2)\n",
    "    final_node_list_1=[]\n",
    "    final_node_list_2=[]\n",
    "    while 1:\n",
    "        if len(final_node_list_1)!=10 and len(final_node_list_2)!=10:\n",
    "            break\n",
    "        if(return_key_1(node_list_1[0])>return_key_2(node_list_2[0])):\n",
    "            if(node_list_2[0] not in final_node_list_1):\n",
    "                final_node_list_2.append(node_list_2[0])\n",
    "                del node_list_2[0]\n",
    "        else:\n",
    "            if(node_list_1[0] not in final_node_list_2):\n",
    "                final_node_list_1.append(node_list_1[0])\n",
    "                del node_list_1[0]\n",
    "    if(len(final_node_list_1)==10):\n",
    "        for node in node_list_2:\n",
    "            if(len(final_node_list_2)!=10 and node not in final_node_list_1):\n",
    "                final_node_list_2.append(node)\n",
    "            del node\n",
    "    else:\n",
    "        for node in node_list_1:\n",
    "            if(len(final_node_list_1)!=10 and node not in final_node_list_2):\n",
    "                final_node_list_1.append(node)\n",
    "            del node\n",
    "    result=0\n",
    "    for node in final_node_list_1:\n",
    "        result+=return_key_1(node)\n",
    "    for node in final_node_list_2:\n",
    "        result+=return_key_2(node)\n",
    "    return result\n",
    "loss=loss(x,y,coe)"
   ]
  },
  {
   "cell_type": "code",
   "execution_count": 46,
   "metadata": {},
   "outputs": [
    {
     "ename": "ValueError",
     "evalue": "0 is not in list",
     "output_type": "error",
     "traceback": [
      "\u001b[0;31m---------------------------------------------------------------------------\u001b[0m",
      "\u001b[0;31mValueError\u001b[0m                                Traceback (most recent call last)",
      "\u001b[0;32m<ipython-input-46-ebd42630cd0f>\u001b[0m in \u001b[0;36m<module>\u001b[0;34m()\u001b[0m\n\u001b[1;32m      1\u001b[0m \u001b[0ml\u001b[0m\u001b[0;34m=\u001b[0m\u001b[0;34m[\u001b[0m\u001b[0;36m1\u001b[0m\u001b[0;34m,\u001b[0m\u001b[0;36m2\u001b[0m\u001b[0;34m,\u001b[0m\u001b[0;36m3\u001b[0m\u001b[0;34m]\u001b[0m\u001b[0;34m\u001b[0m\u001b[0m\n\u001b[0;32m----> 2\u001b[0;31m \u001b[0ml\u001b[0m\u001b[0;34m.\u001b[0m\u001b[0mindex\u001b[0m\u001b[0;34m(\u001b[0m\u001b[0;36m0\u001b[0m\u001b[0;34m)\u001b[0m\u001b[0;34m\u001b[0m\u001b[0m\n\u001b[0m",
      "\u001b[0;31mValueError\u001b[0m: 0 is not in list"
     ]
    }
   ],
   "source": [
    "l=[1,2,3]\n",
    "l.index(0)"
   ]
  },
  {
   "cell_type": "code",
   "execution_count": 43,
   "metadata": {},
   "outputs": [
    {
     "data": {
      "text/plain": [
       "[2]"
      ]
     },
     "execution_count": 43,
     "metadata": {},
     "output_type": "execute_result"
    }
   ],
   "source": [
    "l"
   ]
  },
  {
   "cell_type": "code",
   "execution_count": null,
   "metadata": {},
   "outputs": [],
   "source": []
  }
 ],
 "metadata": {
  "kernelspec": {
   "display_name": "Python 3",
   "language": "python",
   "name": "python3"
  },
  "language_info": {
   "codemirror_mode": {
    "name": "ipython",
    "version": 3
   },
   "file_extension": ".py",
   "mimetype": "text/x-python",
   "name": "python",
   "nbconvert_exporter": "python",
   "pygments_lexer": "ipython3",
   "version": "3.6.3"
  }
 },
 "nbformat": 4,
 "nbformat_minor": 2
}
